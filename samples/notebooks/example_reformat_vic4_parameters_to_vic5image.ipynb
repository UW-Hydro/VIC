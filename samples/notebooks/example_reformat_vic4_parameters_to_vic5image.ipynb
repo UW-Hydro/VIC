{
 "cells": [
  {
   "cell_type": "markdown",
   "metadata": {},
   "source": [
    "Tutorial: VIC 5 Image Driver Parameter Conversion\n",
    "====\n",
    "***Converting parameters from ASCII VIC 4 format to netCDF VIC 5 Image Driver Format***\n",
    "\n",
    "This Jupyter Notebook outlines one approach to converting VIC parameters from ASCII to netCDF format. For this tutorial, we'll convert three datasets from ASCII to netCDF:\n",
    "\n",
    "1. **Livneh et al. (2015) - 1/16th deg. VIC parameters**\n",
    "  - Description: http://www.colorado.edu/lab/livneh/data\n",
    "  - Data: ftp://livnehpublicstorage.colorado.edu/public/Livneh.2015.NAmer.Dataset/nldas.vic.params/\n",
    "  - Citation: Livneh B., E.A. Rosenberg, C. Lin, B. Nijssen, V. Mishra, K.M. Andreadis, E.P. Maurer, and D.P. Lettenmaier, 2013: A Long-term hydrologically based dataset of land surface fluxes and states for the conterminous United States: update and extensions, Journal of Climate, 26, 9384–9392.\n",
    "2. **Global 1/2 deg. VIC parameters**\n",
    "  - Description: http://www.hydro.washington.edu/SurfaceWaterGroup/Data/vic_global_0.5deg.html\n",
    "  - Data: ftp://ftp.hydro.washington.edu/pub/HYDRO/data/VIC_param/vic_params_global_0.5deg.tgz\n",
    "  - Citation: Nijssen, B.N., G.M. O'Donnell, D.P. Lettenmaier and E.F. Wood, 2001: Predicting the discharge of global rivers, J. Clim., 14(15), 3307-3323, doi: 10.1175/1520-0442(2001)014<3307:PTDOGR>2.0.CO;2.\n",
    "3. **Maurer et al. (2002) - 1/8th deg. VIC parameters**\n",
    "  - Description: http://www.hydro.washington.edu/SurfaceWaterGroup/Data/VIC_retrospective/index.html\n",
    "  - Data: http://www.hydro.washington.edu/SurfaceWaterGroup/Data/VIC_retrospective/index.html\n",
    "  - Citation: Maurer, E.P., A.W. Wood, J.C. Adam, D.P. Lettenmaier, and B. Nijssen, 2002: A long-term hydrologically-based data set of land surface fluxes and states for the conterminous United States, J. Climate 15, 3237-3251. \n",
    "\n",
    "All of these datasets include the following parameter sets:\n",
    "- Soil Parameter file\n",
    "- Vegetation Library file\n",
    "- Vegetation Parameter file\n",
    "- Snowbands file \n",
    "\n",
    "### Outputs\n",
    "For each of the parameter sets above, we'll be producing two files:\n",
    "1.  VIC 5 Image Driver Input Parameters (netCDF file defining model parameters)\n",
    "2.  VIC 5 Image Driver Domain File (netCDF file defining spatial extent of model domain)"
   ]
  },
  {
   "cell_type": "markdown",
   "metadata": {},
   "source": [
    "### Python Imports and Setup"
   ]
  },
  {
   "cell_type": "code",
   "execution_count": 1,
   "metadata": {
    "collapsed": false
   },
   "outputs": [
    {
     "name": "stdout",
     "output_type": "stream",
     "text": [
      "python version : 3.5.1 |Continuum Analytics, Inc.| (default, Dec  7 2015, 11:24:55) \n",
      "[GCC 4.2.1 (Apple Inc. build 5577)]\n",
      "numpy version  : 1.10.4\n",
      "xarray version : 0.7.2\n",
      "User           : jhamman\n",
      "Date/Time      : 2016-06-08 15:01:23.814110\n"
     ]
    }
   ],
   "source": [
    "%matplotlib inline\n",
    "\n",
    "import os\n",
    "import getpass\n",
    "from datetime import datetime\n",
    "\n",
    "import numpy as np\n",
    "import xarray as xr\n",
    "import matplotlib.pyplot as plt\n",
    "\n",
    "# For more information on tonic, see: https://github.com/UW-Hydro/tonic/\n",
    "import tonic.models.vic.grid_params as gp\n",
    "\n",
    "# Metadata to be used later\n",
    "user = getpass.getuser()\n",
    "now = datetime.now()\n",
    "\n",
    "print('python version : %s' % os.sys.version)\n",
    "print('numpy version  : %s' % np.version.full_version)\n",
    "print('xarray version : %s' % xr.version.version)\n",
    "print('User           : %s' % user)\n",
    "print('Date/Time      : %s' % now)"
   ]
  },
  {
   "cell_type": "markdown",
   "metadata": {},
   "source": [
    "## Set Path Information"
   ]
  },
  {
   "cell_type": "code",
   "execution_count": 2,
   "metadata": {
    "collapsed": true
   },
   "outputs": [],
   "source": [
    "# Set the path to the datasets here\n",
    "dpath = './'  # root input data path\n",
    "opath = './'  # output data path\n",
    "ldpath = os.path.join(dpath, 'Livneh_0.0625_NLDAS')  # Path to Livneh Parameters\n",
    "gdpath = os.path.join(dpath, 'Nijssen_0.5_Global')  # Path to Global Parameters\n",
    "mdpath = os.path.join(dpath, 'Maurer_0.125_NLDAS')  # Path to Maurer Parameters"
   ]
  },
  {
   "cell_type": "markdown",
   "metadata": {},
   "source": [
    "# Livneh Domain File\n",
    "\n",
    "Along with the VIC model parameters, we also need a domain file that describes the spatial extent and active grid cells in the model domain. The domain file must exactly match the parameters and forcings. The Livneh dataset includes a DEM file in netCDF format that we can use to construct the domain file.\n",
    "\n",
    "Steps:\n",
    "\n",
    "1. Open dem\n",
    "2. Set useful global attributes\n",
    "3. Create the mask/frac variables using the non-missing dem mask.\n",
    "4. Calculate the grid cell area using `cdo`\n",
    "5. Add the grid cell area back into the domain dataset.\n",
    "6. Save the domain dataset"
   ]
  },
  {
   "cell_type": "code",
   "execution_count": 3,
   "metadata": {
    "collapsed": false
   },
   "outputs": [],
   "source": [
    "dom_file = os.path.join(opath, 'domain.vic.global0.0625deg.%s.nc' % now.strftime('%Y%m%d'))\n",
    "dem = xr.open_dataset(os.path.join(ldpath, 'Composite.DEM.NLDAS.mex.0625.nc'))\n",
    "\n",
    "dom_ds = xr.Dataset()\n",
    "\n",
    "# Set global attributes\n",
    "dom_ds.attrs['title'] = 'VIC domain data'\n",
    "dom_ds.attrs['Conventions'] = 'CF-1.6'\n",
    "dom_ds.attrs['history'] = 'created by %s, %s' % (user, now)\n",
    "dom_ds.attrs['user_comment'] = 'VIC domain data'\n",
    "dom_ds.attrs['source'] = 'generated from VIC North American 1/16 deg. model parameters, see Livneh et al. (2015) for more information'\n",
    "\n",
    "# since we have it, put the elevation in the domain file\n",
    "dom_ds['elev'] = dem['Band1']\n",
    "dom_ds['elev'].attrs['long_name'] = 'gridcell_elevation'\n",
    "dom_ds['elev'].attrs['units'] = 'm'\n",
    "\n",
    "# Get the mask variable\n",
    "dom_ds['mask'] = dem['Band1'].notnull().astype(np.int)\n",
    "dom_ds['mask'].attrs['long_name'] = 'domain mask'\n",
    "dom_ds['mask'].attrs['comment'] = '0 indicates cell is not active'\n",
    "\n",
    "# For now, the frac variable is going to be just like the mask\n",
    "dom_ds['frac'] = dom_ds['mask'].astype(np.float)\n",
    "dom_ds['frac'].attrs['long_name'] = 'fraction of grid cell that is active'\n",
    "dom_ds['frac'].attrs['units'] = '1'\n",
    "    \n",
    "# Save the output domain to a temporary file.\n",
    "dom_ds.to_netcdf('temp.nc')\n",
    "dom_ds.close()"
   ]
  },
  {
   "cell_type": "code",
   "execution_count": 4,
   "metadata": {
    "collapsed": false
   },
   "outputs": [
    {
     "name": "stdout",
     "output_type": "stream",
     "text": [
      "cdo gridarea:   0%\b\b\b\b  0%\b\b\b\b  1%\b\b\b\b  2%\b\b\b\b  3%\b\b\b\b  4%\b\b\b\b  5%\b\b\b\b  6%\b\b\b\b  7%\b\b\b\b  8%\b\b\b\b  9%\b\b\b\b 10%\b\b\b\b 11%\b\b\b\b 12%\b\b\b\b 13%\b\b\b\b 14%\b\b\b\b 15%\b\b\b\b 16%\b\b\b\b 17%\b\b\b\b 18%\b\b\b\b 19%\b\b\b\b 20%\b\b\b\b 21%\b\b\b\b 22%\b\b\b\b 23%\b\b\b\b 24%\b\b\b\b 25%\b\b\b\b 26%\b\b\b\b 27%\b\b\b\b 28%\b\b\b\b 29%\b\b\b\b 30%\b\b\b\b 31%\b\b\b\b 32%\b\b\b\b 33%\b\b\b\b 34%\b\b\b\b 35%\b\b\b\b 36%\b\b\b\b 37%\b\b\b\b 38%\b\b\b\b 39%\b\b\b\b 40%\b\b\b\b 41%\b\b\b\b 42%\b\b\b\b 43%\b\b\b\b 44%\b\b\b\b 45%\b\b\b\b 46%\b\b\b\b 47%\b\b\b\b 48%\b\b\b\b 49%\b\b\b\b 50%\b\b\b\b 51%\b\b\b\b 52%\b\b\b\b 53%\b\b\b\b 54%\b\b\b\b 55%\b\b\b\b 56%\b\b\b\b 57%\b\b\b\b 58%\b\b\b\b 59%\b\b\b\b 60%\b\b\b\b 61%\b\b\b\b 62%\b\b\b\b 63%\b\b\b\b 64%\b\b\b\b 65%\b\b\b\b 66%\b\b\b\b 67%\b\b\b\b 68%\b\b\b\b 69%\b\b\b\b 70%\b\b\b\b 71%\b\b\b\b 72%\b\b\b\b 73%\b\b\b\b 74%\b\b\b\b 75%\b\b\b\b 76%\b\b\b\b 77%\b\b\b\b 78%\b\b\b\b 79%\b\b\b\b 80%\b\b\b\b 81%\b\b\b\b 82%\b\b\b\b 83%\b\b\b\b 84%\b\b\b\b 85%\b\b\b\b 86%\b\b\b\b 87%\b\b\b\b 88%\b\b\b\b 89%\b\b\b\b 90%\b\b\b\b 91%\b\b\b\b 92%\b\b\b\b 93%\b\b\b\b 94%\b\b\b\b 95%\b\b\b\b 96%\b\b\b\b 97%\b\b\b\b 98%\b\b\b\b 99%\b\b\b\b100%\b \b\b \b\b \b\b \b\b \b\b \b\b \b\b \b\b \b\b \b\b \b\b \b\b \b\b \b\b \b\b \b\b \b\b \bcdo gridarea: Processed 3 variables ( 0.63s )\n"
     ]
    }
   ],
   "source": [
    "# This shell command uses cdo step calculates the grid cell area\n",
    "!cdo -O gridarea temp.nc area.nc\n",
    "!rm temp.nc"
   ]
  },
  {
   "cell_type": "code",
   "execution_count": 5,
   "metadata": {
    "collapsed": false
   },
   "outputs": [
    {
     "name": "stdout",
     "output_type": "stream",
     "text": [
      "<xarray.Dataset>\n",
      "Dimensions:  (lat: 614, lon: 928)\n",
      "Coordinates:\n",
      "  * lon      (lon) float64 -125.0 -124.9 -124.8 -124.8 -124.7 -124.7 -124.6 ...\n",
      "  * lat      (lat) float64 14.66 14.72 14.78 14.84 14.91 14.97 15.03 15.09 ...\n",
      "Data variables:\n",
      "    elev     (lat, lon) float64 nan nan nan nan nan nan nan nan nan nan nan ...\n",
      "    mask     (lat, lon) int64 0 0 0 0 0 0 0 0 0 0 0 0 0 0 0 0 0 0 0 0 0 0 0 ...\n",
      "    frac     (lat, lon) float64 0.0 0.0 0.0 0.0 0.0 0.0 0.0 0.0 0.0 0.0 0.0 ...\n",
      "    area     (lat, lon) float64 4.673e+07 4.673e+07 4.673e+07 4.673e+07 ...\n",
      "Attributes:\n",
      "    title: VIC domain data\n",
      "    Conventions: CF-1.6\n",
      "    history: created by jhamman, 2016-06-08 15:01:23.814110\n",
      "    user_comment: VIC domain data\n",
      "    source: generated from VIC North American 1/16 deg. model parameters, see Livneh et al. (2015) for more information\n"
     ]
    },
    {
     "data": {
      "text/plain": [
       "<matplotlib.collections.QuadMesh at 0x114f5c748>"
      ]
     },
     "execution_count": 5,
     "metadata": {},
     "output_type": "execute_result"
    },
    {
     "data": {
      "image/png": "[encoded data removed]",
      "text/plain": [
       "<matplotlib.figure.Figure at 0x1041d5160>"
      ]
     },
     "metadata": {},
     "output_type": "display_data"
    }
   ],
   "source": [
    "# This step extracts the area from the temporary area.nc file\n",
    "area = xr.open_dataset('area.nc')['cell_area']\n",
    "dom_ds['area'] = area\n",
    "\n",
    "# Write the final domain file\n",
    "dom_ds.to_netcdf(dom_file)\n",
    "dom_ds.close()\n",
    "\n",
    "# Document the domain and plot\n",
    "print(dom_ds)\n",
    "dom_ds['mask'].plot()"
   ]
  },
  {
   "cell_type": "markdown",
   "metadata": {},
   "source": [
    "# Livneh Parameters\n",
    "\n",
    "VIC 5 uses the same parameters as VIC 4. The following steps will read/parse the ASCII formatted parameter files and construct the netCDF formatted parameter file.  We'll use the domain file constructed in the previous step to help define the spatial grid.\n",
    "\n",
    "Steps:\n",
    "\n",
    "1. Read the soil/snow/veg/veglib files\n",
    "2. Read the target grid (domain file)\n",
    "3. Map the parameters to the spatial grid defined by the domain file\n",
    "4. Write the parameters to a netCDF file."
   ]
  },
  {
   "cell_type": "code",
   "execution_count": 6,
   "metadata": {
    "collapsed": false,
    "scrolled": true
   },
   "outputs": [
    {
     "name": "stdout",
     "output_type": "stream",
     "text": [
      "reading ./Livneh_0.0625_NLDAS/vic.nldas.mexico.soil.txt\n",
      "reading ./Livneh_0.0625_NLDAS/vic.nldas.mexico.snow.txt.L13\n",
      "reading ./Livneh_0.0625_NLDAS/vic.nldas.mexico.veg.txt\n",
      "reading ./Livneh_0.0625_NLDAS/LDAS_veg_lib\n",
      "Reading input data variables:  odict_keys(['lon', 'lat', 'elev', 'mask', 'frac', 'area']) from file: ./domain.vic.global0.0625deg.20160608.nc\n",
      "gridding params now...\n",
      "creating 2d coordinate arrays\n",
      "236213 masked values\n",
      "dont have units or description for elev\n",
      "writing var: run_cell\n",
      "writing var: gridcell\n",
      "writing var: lats\n",
      "writing var: lons\n",
      "writing var: infilt\n",
      "writing var: Ds\n",
      "writing var: Dsmax\n",
      "writing var: Ws\n",
      "writing var: c\n",
      "writing var: expt\n",
      "writing var: Ksat\n",
      "writing var: phi_s\n",
      "writing var: init_moist\n",
      "writing var: elev\n",
      "writing var: depth\n",
      "writing var: avg_T\n",
      "writing var: dp\n",
      "writing var: bubble\n",
      "writing var: quartz\n",
      "writing var: bulk_density\n",
      "writing var: soil_density\n",
      "writing var: off_gmt\n",
      "writing var: Wcr_FRACT\n",
      "writing var: Wpwp_FRACT\n",
      "writing var: rough\n",
      "writing var: snow_rough\n",
      "writing var: annual_prec\n",
      "writing var: resid_moist\n",
      "writing var: fs_active\n",
      "writing var: cellnum\n",
      "writing var: AreaFract\n",
      "writing var: elevation\n",
      "writing var: Pfactor\n",
      "writing var: Nveg (614, 928)\n",
      "writing var: Cv (12, 614, 928)\n",
      "writing var: root_depth (12, 3, 614, 928)\n",
      "writing var: root_fract (12, 3, 614, 928)\n",
      "writing var: LAI (12, 12, 614, 928)\n",
      "writing var: overstory (12, 614, 928)\n",
      "writing var: rarc (12, 614, 928)\n",
      "writing var: rmin (12, 614, 928)\n",
      "writing var: wind_h (12, 614, 928)\n",
      "writing var: RGL (12, 614, 928)\n",
      "writing var: rad_atten (12, 614, 928)\n",
      "writing var: wind_atten (12, 614, 928)\n",
      "writing var: trunk_ratio (12, 614, 928)\n",
      "writing var: albedo (12, 12, 614, 928)\n",
      "writing var: veg_rough (12, 12, 614, 928)\n",
      "writing var: displacement (12, 12, 614, 928)\n"
     ]
    }
   ],
   "source": [
    "soil_file = os.path.join(ldpath, 'vic.nldas.mexico.soil.txt')\n",
    "snow_file = os.path.join(ldpath, 'vic.nldas.mexico.snow.txt.L13')\n",
    "veg_file = os.path.join(ldpath, 'vic.nldas.mexico.veg.txt')\n",
    "vegl_file = os.path.join(ldpath, 'LDAS_veg_lib')\n",
    "out_file = os.path.join(opath, 'livneh_nldas.mexico_vic_5.0.0_parameters.nc')\n",
    "\n",
    "# Set options that define the shape/type of parameters\n",
    "cols = gp.Cols(nlayers=3,\n",
    "               snow_bands=5,\n",
    "               organic_fract=False,\n",
    "               spatial_frost=False,\n",
    "               spatial_snow=False,\n",
    "               july_tavg_supplied=False,\n",
    "               veglib_fcan=False,\n",
    "               veglib_photo=False)\n",
    "n_veg_classes = 11\n",
    "vegparam_lai = True\n",
    "lai_src = 'FROM_VEGPARAM'\n",
    "\n",
    "# ----------------------------------------------------------------- #\n",
    "\n",
    "# Read the soil parameters\n",
    "soil_dict = gp.soil(soil_file, c=gp.Cols(nlayers=3))\n",
    "\n",
    "# Read the snow parameters\n",
    "snow_dict = gp.snow(snow_file, soil_dict, c=cols)\n",
    "\n",
    "# Read the veg parameter file\n",
    "veg_dict = gp.veg(veg_file, soil_dict,\n",
    "                  vegparam_lai=vegparam_lai, lai_src=lai_src, \n",
    "                  veg_classes=n_veg_classes)\n",
    "\n",
    "# Read the veg library file\n",
    "veg_lib, lib_bare_idx = gp.veg_class(vegl_file, c=cols)\n",
    "\n",
    "# Determine the grid shape\n",
    "target_grid, target_attrs = gp.read_netcdf(dom_file)\n",
    "for old, new in [('lon', 'xc'), ('lat', 'yc')]:\n",
    "    target_grid[new] = target_grid.pop(old)\n",
    "    target_attrs[new] = target_attrs.pop(old)\n",
    "\n",
    "# Grid all the parameters\n",
    "grid_dict = gp.grid_params(soil_dict,\n",
    "                           target_grid,\n",
    "                           version_in='4.1.2.c', \n",
    "                           vegparam_lai=vegparam_lai,\n",
    "                           lib_bare_idx=lib_bare_idx, \n",
    "                           lai_src=lai_src,\n",
    "                           veg_dict=veg_dict,\n",
    "                           veglib_dict=veg_lib, \n",
    "                           snow_dict=snow_dict,\n",
    "                           lake_dict=None)\n",
    "\n",
    "# Write a netCDF file with all the parameters\n",
    "gp.write_netcdf(out_file, \n",
    "                target_attrs,\n",
    "                target_grid=target_grid,\n",
    "                vegparam_lai=vegparam_lai,\n",
    "                lai_src=lai_src, \n",
    "                soil_grid=grid_dict['soil_dict'],\n",
    "                snow_grid=grid_dict['snow_dict'],\n",
    "                veg_grid=grid_dict['veg_dict'])"
   ]
  },
  {
   "cell_type": "markdown",
   "metadata": {},
   "source": [
    "# Global 1/2 deg. Parameters\n",
    "\n",
    "For the global 1/2 deg. parameters, we will follow the same steps as for the Livneh case with one exception. We don't have a domain file this time so we'll use `tonic`'s `calc_grid` function to make one for us."
   ]
  },
  {
   "cell_type": "code",
   "execution_count": 7,
   "metadata": {
    "collapsed": false
   },
   "outputs": [
    {
     "name": "stdout",
     "output_type": "stream",
     "text": [
      "reading ./Nijssen_0.5_Global/global_soil_param_new\n",
      "reading ./Nijssen_0.5_Global/global_snowbands_new\n",
      "reading ./Nijssen_0.5_Global/global_veg_param_new\n",
      "reading ./Nijssen_0.5_Global/world_veg_lib.txt\n",
      "Calculating grid size now...\n",
      "found 717 unique lons\n",
      "found 278 unique lats\n",
      "assuming grid is meant to be global...\n",
      "creating 2d coordinate arrays\n",
      "Created a target grid based on the lats and lon in the soil parameter file\n",
      "Grid Size: (360, 720)\n",
      "gridding params now...\n",
      "creating 2d coordinate arrays\n",
      "197855 masked values\n",
      "writing var: run_cell\n",
      "writing var: gridcell\n",
      "writing var: lats\n",
      "writing var: lons\n",
      "writing var: infilt\n",
      "writing var: Ds\n",
      "writing var: Dsmax\n",
      "writing var: Ws\n",
      "writing var: c\n",
      "writing var: expt\n",
      "writing var: Ksat\n",
      "writing var: phi_s\n",
      "writing var: init_moist\n",
      "writing var: elev\n",
      "writing var: depth\n",
      "writing var: avg_T\n",
      "writing var: dp\n",
      "writing var: bubble\n",
      "writing var: quartz\n",
      "writing var: bulk_density\n",
      "writing var: soil_density\n",
      "writing var: off_gmt\n",
      "writing var: Wcr_FRACT\n",
      "writing var: Wpwp_FRACT\n",
      "writing var: rough\n",
      "writing var: snow_rough\n",
      "writing var: annual_prec\n",
      "writing var: resid_moist\n",
      "writing var: fs_active\n",
      "writing var: cellnum\n",
      "writing var: AreaFract\n",
      "writing var: elevation\n",
      "writing var: Pfactor\n",
      "writing var: Nveg (360, 720)\n",
      "writing var: Cv (12, 360, 720)\n",
      "writing var: root_depth (12, 2, 360, 720)\n",
      "writing var: root_fract (12, 2, 360, 720)\n",
      "writing var: LAI (12, 12, 360, 720)\n",
      "writing var: overstory (12, 360, 720)\n",
      "writing var: rarc (12, 360, 720)\n",
      "writing var: rmin (12, 360, 720)\n",
      "writing var: wind_h (12, 360, 720)\n",
      "writing var: RGL (12, 360, 720)\n",
      "writing var: rad_atten (12, 360, 720)\n",
      "writing var: wind_atten (12, 360, 720)\n",
      "writing var: trunk_ratio (12, 360, 720)\n",
      "writing var: albedo (12, 12, 360, 720)\n",
      "writing var: veg_rough (12, 12, 360, 720)\n",
      "writing var: displacement (12, 12, 360, 720)\n"
     ]
    }
   ],
   "source": [
    "soil_file = os.path.join(gdpath, 'global_soil_param_new')\n",
    "snow_file = os.path.join(gdpath, 'global_snowbands_new')\n",
    "veg_file = os.path.join(gdpath, 'global_veg_param_new')\n",
    "vegl_file = os.path.join(gdpath, 'world_veg_lib.txt')\n",
    "out_file = os.path.join(gdpath, 'global_0.5deg.vic_5.0.0_parameters.nc')\n",
    "\n",
    "# Set options that define the shape/type of parameters\n",
    "cols = gp.Cols(nlayers=3,\n",
    "               snow_bands=5,\n",
    "               organic_fract=False,\n",
    "               spatial_frost=False,\n",
    "               spatial_snow=False,\n",
    "               july_tavg_supplied=False,\n",
    "               veglib_fcan=False,\n",
    "               veglib_photo=False)\n",
    "n_veg_classes = 11\n",
    "root_zones = 2\n",
    "vegparam_lai = True\n",
    "lai_src = 'FROM_VEGPARAM'\n",
    "\n",
    "# ----------------------------------------------------------------- #\n",
    "\n",
    "# Read the soil parameters\n",
    "soil_dict = gp.soil(soil_file, c=cols)\n",
    "\n",
    "# Read the snow parameters\n",
    "snow_dict = gp.snow(snow_file, soil_dict, c=cols)\n",
    "\n",
    "# Read the veg parameter file\n",
    "veg_dict = gp.veg(veg_file, soil_dict,\n",
    "                  vegparam_lai=vegparam_lai, lai_src=lai_src, \n",
    "                  veg_classes=n_veg_classes, max_roots=root_zones)\n",
    "\n",
    "# Read the veg library file\n",
    "veg_lib, lib_bare_idx = gp.veg_class(vegl_file, c=cols)\n",
    "\n",
    "# Determine the grid shape\n",
    "target_grid, target_attrs = gp.calc_grid(soil_dict['lats'], soil_dict['lons'])\n",
    "\n",
    "# Grid all the parameters\n",
    "grid_dict = gp.grid_params(soil_dict, target_grid, version_in='4', \n",
    "                           vegparam_lai=vegparam_lai, lai_src=lai_src,\n",
    "                           lib_bare_idx=lib_bare_idx, \n",
    "                           veg_dict=veg_dict, veglib_dict=veg_lib, \n",
    "                           snow_dict=snow_dict, lake_dict=None)\n",
    "\n",
    "# Write a netCDF file with all the parameters\n",
    "gp.write_netcdf(out_file,\n",
    "                target_attrs,\n",
    "                target_grid=target_grid,\n",
    "                vegparam_lai=vegparam_lai,\n",
    "                lai_src=lai_src,\n",
    "                soil_grid=grid_dict['soil_dict'],\n",
    "                snow_grid=grid_dict['snow_dict'],\n",
    "                veg_grid=grid_dict['veg_dict'])"
   ]
  },
  {
   "cell_type": "markdown",
   "metadata": {},
   "source": [
    "# Global Domain File\n",
    "\n",
    "Since the global soil parameters didn't come with a domain file that we could use, we'll construct one using the output from `tonic`'s `calc_grid` function. "
   ]
  },
  {
   "cell_type": "code",
   "execution_count": 8,
   "metadata": {
    "collapsed": false
   },
   "outputs": [],
   "source": [
    "dom_ds = xr.Dataset()\n",
    "\n",
    "# Set global attributes\n",
    "dom_ds.attrs['title'] = 'VIC domain data'\n",
    "dom_ds.attrs['Conventions'] = 'CF-1.6'\n",
    "dom_ds.attrs['history'] = 'created by %s, %s' % (user, now)\n",
    "dom_ds.attrs['user_comment'] = 'VIC domain data'\n",
    "dom_ds.attrs['source'] = 'generated from VIC Global 0.5 deg. model parameters, see Nijssen et al. (2001) for more information'"
   ]
  },
  {
   "cell_type": "code",
   "execution_count": 9,
   "metadata": {
    "collapsed": false
   },
   "outputs": [],
   "source": [
    "dom_file = os.path.join(opath, 'domain.vic.global0.5deg.%s.nc' % now.strftime('%Y%m%d'))\n",
    "\n",
    "# Get the mask variable\n",
    "dom_ds['mask'] = xr.DataArray(target_grid['mask'], coords={'lat': target_grid['yc'],\n",
    "                                                                 'lon': target_grid['xc']},\n",
    "                                    dims=('lat', 'lon', ))\n",
    "\n",
    "# For now, the frac variable is going to be just like the mask\n",
    "dom_ds['frac'] = dom_ds['mask'].astype(np.float)\n",
    "dom_ds['frac'].attrs['long_name'] = 'fraction of grid cell that is active'\n",
    "dom_ds['frac'].attrs['units'] = '1'\n",
    "\n",
    "# Set variable attributes\n",
    "for k, v in target_attrs.items():\n",
    "    if k == 'xc':\n",
    "        k = 'lon'\n",
    "    elif k == 'yc':\n",
    "        k = 'lat'\n",
    "    dom_ds[k].attrs = v\n",
    "    \n",
    "# Write temporary file for gridarea calculation\n",
    "dom_ds.to_netcdf('temp.nc')"
   ]
  },
  {
   "cell_type": "code",
   "execution_count": 10,
   "metadata": {
    "collapsed": false
   },
   "outputs": [
    {
     "name": "stdout",
     "output_type": "stream",
     "text": [
      "cdo gridarea:   0%\b\b\b\b  0%\b\b\b\b  1%\b\b\b\b  2%\b\b\b\b  3%\b\b\b\b  4%\b\b\b\b  5%\b\b\b\b  6%\b\b\b\b  7%\b\b\b\b  8%\b\b\b\b  9%\b\b\b\b 10%\b\b\b\b 11%\b\b\b\b 12%\b\b\b\b 13%\b\b\b\b 14%\b\b\b\b 15%\b\b\b\b 16%\b\b\b\b 17%\b\b\b\b 18%\b\b\b\b 19%\b\b\b\b 20%\b\b\b\b 21%\b\b\b\b 22%\b\b\b\b 23%\b\b\b\b 24%\b\b\b\b 25%\b\b\b\b 26%\b\b\b\b 27%\b\b\b\b 28%\b\b\b\b 29%\b\b\b\b 30%\b\b\b\b 31%\b\b\b\b 32%\b\b\b\b 33%\b\b\b\b 34%\b\b\b\b 35%\b\b\b\b 36%\b\b\b\b 37%\b\b\b\b 38%\b\b\b\b 39%\b\b\b\b 40%\b\b\b\b 41%\b\b\b\b 42%\b\b\b\b 43%\b\b\b\b 44%\b\b\b\b 45%\b\b\b\b 46%\b\b\b\b 47%\b\b\b\b 48%\b\b\b\b 49%\b\b\b\b 50%\b\b\b\b 51%\b\b\b\b 52%\b\b\b\b 53%\b\b\b\b 54%\b\b\b\b 55%\b\b\b\b 56%\b\b\b\b 57%\b\b\b\b 58%\b\b\b\b 59%\b\b\b\b 60%\b\b\b\b 61%\b\b\b\b 62%\b\b\b\b 63%\b\b\b\b 64%\b\b\b\b 65%\b\b\b\b 66%\b\b\b\b 67%\b\b\b\b 68%\b\b\b\b 69%\b\b\b\b 70%\b\b\b\b 71%\b\b\b\b 72%\b\b\b\b 73%\b\b\b\b 74%\b\b\b\b 75%\b\b\b\b 76%\b\b\b\b 77%\b\b\b\b 78%\b\b\b\b 79%\b\b\b\b 80%\b\b\b\b 81%\b\b\b\b 82%\b\b\b\b 83%\b\b\b\b 84%\b\b\b\b 85%\b\b\b\b 86%\b\b\b\b 87%\b\b\b\b 88%\b\b\b\b 89%\b\b\b\b 90%\b\b\b\b 91%\b\b\b\b 92%\b\b\b\b 93%\b\b\b\b 94%\b\b\b\b 95%\b\b\b\b 96%\b\b\b\b 97%\b\b\b\b 98%\b\b\b\b 99%\b\b\b\b100%\b \b\b \b\b \b\b \b\b \b\b \b\b \b\b \b\b \b\b \b\b \b\b \b\b \b\b \b\b \b\b \b\b \b\b \bcdo gridarea: Processed 2 variables ( 0.28s )\n"
     ]
    }
   ],
   "source": [
    "# This step calculates the grid cell area\n",
    "!cdo -O gridarea temp.nc area.nc\n",
    "!rm temp.nc"
   ]
  },
  {
   "cell_type": "code",
   "execution_count": 11,
   "metadata": {
    "collapsed": false
   },
   "outputs": [
    {
     "name": "stdout",
     "output_type": "stream",
     "text": [
      "<xarray.Dataset>\n",
      "Dimensions:  (lat: 360, lon: 720)\n",
      "Coordinates:\n",
      "  * lat      (lat) float64 -89.75 -89.25 -88.75 -88.25 -87.75 -87.25 -86.75 ...\n",
      "  * lon      (lon) float64 -179.8 -179.2 -178.8 -178.2 -177.8 -177.2 -176.8 ...\n",
      "Data variables:\n",
      "    mask     (lat, lon) int64 0 0 0 0 0 0 0 0 0 0 0 0 0 0 0 0 0 0 0 0 0 0 0 ...\n",
      "    frac     (lat, lon) float64 0.0 0.0 0.0 0.0 0.0 0.0 0.0 0.0 0.0 0.0 0.0 ...\n",
      "    area     (lat, lon) float64 nan nan nan nan nan nan nan nan nan nan nan ...\n",
      "Attributes:\n",
      "    title: VIC domain data\n",
      "    Conventions: CF-1.6\n",
      "    history: created by jhamman, 2016-06-08 15:01:23.814110\n",
      "    user_comment: VIC domain data\n",
      "    source: generated from VIC Global 0.5 deg. model parameters, see Nijssen et al. (2001) for more information\n"
     ]
    },
    {
     "data": {
      "text/plain": [
       "<matplotlib.collections.QuadMesh at 0x11d88d7b8>"
      ]
     },
     "execution_count": 11,
     "metadata": {},
     "output_type": "execute_result"
    },
    {
     "data": {
      "image/png": "[encoded data removed]",
      "text/plain": [
       "<matplotlib.figure.Figure at 0x118006240>"
      ]
     },
     "metadata": {},
     "output_type": "display_data"
    }
   ],
   "source": [
    "# Extract the area variable\n",
    "area = xr.open_dataset('area.nc').load()['cell_area']\n",
    "dom_ds['area'] = area\n",
    "\n",
    "# write the domain file\n",
    "dom_ds.to_netcdf(dom_file)\n",
    "dom_ds.close()\n",
    "\n",
    "# document and plot the domain\n",
    "print(dom_ds)\n",
    "dom_ds.mask.plot()"
   ]
  },
  {
   "cell_type": "code",
   "execution_count": 12,
   "metadata": {
    "collapsed": true
   },
   "outputs": [],
   "source": [
    "!rm area.nc"
   ]
  },
  {
   "cell_type": "markdown",
   "metadata": {},
   "source": [
    "# Maurer 1/8 deg. Parameters\n",
    "\n",
    "Finally, we'll repeat the same steps for the Maurer 1/8 deg. parameters."
   ]
  },
  {
   "cell_type": "code",
   "execution_count": 13,
   "metadata": {
    "collapsed": false
   },
   "outputs": [
    {
     "name": "stdout",
     "output_type": "stream",
     "text": [
      "reading ./Maurer_0.125_NLDAS/soil/us_all.soil.wsne\n",
      "reading ./Maurer_0.125_NLDAS/snow/us_all.snowbands.wsne\n",
      "reading ./Maurer_0.125_NLDAS/veg/us_all.veg.wsne\n",
      "reading ./Livneh_0.0625_NLDAS/LDAS_veg_lib\n",
      "Calculating grid size now...\n",
      "found 462 unique lons\n",
      "found 222 unique lats\n",
      "creating 2d coordinate arrays\n",
      "Created a target grid based on the lats and lon in the soil parameter file\n",
      "Grid Size: (222, 462)\n",
      "gridding params now...\n",
      "creating 2d coordinate arrays\n",
      "48547 masked values\n",
      "writing var: run_cell\n",
      "writing var: gridcell\n",
      "writing var: lats\n",
      "writing var: lons\n",
      "writing var: infilt\n",
      "writing var: Ds\n",
      "writing var: Dsmax\n",
      "writing var: Ws\n",
      "writing var: c\n",
      "writing var: expt\n",
      "writing var: Ksat\n",
      "writing var: phi_s\n",
      "writing var: init_moist\n",
      "writing var: elev\n",
      "writing var: depth\n",
      "writing var: avg_T\n",
      "writing var: dp\n",
      "writing var: bubble\n",
      "writing var: quartz\n",
      "writing var: bulk_density\n",
      "writing var: soil_density\n",
      "writing var: off_gmt\n",
      "writing var: Wcr_FRACT\n",
      "writing var: Wpwp_FRACT\n",
      "writing var: rough\n",
      "writing var: snow_rough\n",
      "writing var: annual_prec\n",
      "writing var: resid_moist\n",
      "writing var: fs_active\n",
      "writing var: cellnum\n",
      "writing var: AreaFract\n",
      "writing var: elevation\n",
      "writing var: Pfactor\n",
      "writing var: Nveg (222, 462)\n",
      "writing var: Cv (12, 222, 462)\n",
      "writing var: root_depth (12, 2, 222, 462)\n",
      "writing var: root_fract (12, 2, 222, 462)\n",
      "writing var: LAI (12, 12, 222, 462)\n",
      "writing var: overstory (12, 222, 462)\n",
      "writing var: rarc (12, 222, 462)\n",
      "writing var: rmin (12, 222, 462)\n",
      "writing var: wind_h (12, 222, 462)\n",
      "writing var: RGL (12, 222, 462)\n",
      "writing var: rad_atten (12, 222, 462)\n",
      "writing var: wind_atten (12, 222, 462)\n",
      "writing var: trunk_ratio (12, 222, 462)\n",
      "writing var: albedo (12, 12, 222, 462)\n",
      "writing var: veg_rough (12, 12, 222, 462)\n",
      "writing var: displacement (12, 12, 222, 462)\n"
     ]
    }
   ],
   "source": [
    "soil_file = os.path.join(mdpath, 'soil', 'us_all.soil.wsne')\n",
    "snow_file = os.path.join(mdpath, 'snow', 'us_all.snowbands.wsne')\n",
    "veg_file = os.path.join(mdpath, 'veg', 'us_all.veg.wsne')\n",
    "vegl_file = os.path.join(ldpath, 'LDAS_veg_lib')  # from livneh\n",
    "out_file = os.path.join(mdpath, 'nldas_0.125deg.vic_5.0.0_parameters.nc')\n",
    "\n",
    "cols = gp.Cols(nlayers=3,\n",
    "               snow_bands=5,\n",
    "               organic_fract=False,\n",
    "               spatial_frost=False,\n",
    "               spatial_snow=False,\n",
    "               july_tavg_supplied=False,\n",
    "               veglib_fcan=False,\n",
    "               veglib_photo=False)\n",
    "n_veg_classes = 11\n",
    "root_zones = 2\n",
    "vegparam_lai = True\n",
    "lai_src = 'FROM_VEGPARAM'\n",
    "\n",
    "\n",
    "# ----------------------------------------------------------------- #\n",
    "\n",
    "# Read the soil parameters\n",
    "soil_dict = gp.soil(soil_file, c=cols)\n",
    "\n",
    "# Read the snow parameters\n",
    "snow_dict = gp.snow(snow_file, soil_dict, c=cols)\n",
    "\n",
    "# Read the veg parameter file\n",
    "veg_dict = gp.veg(veg_file, soil_dict,\n",
    "                  vegparam_lai=vegparam_lai, lai_src=lai_src, \n",
    "                  veg_classes=n_veg_classes, max_roots=root_zones)\n",
    "\n",
    "# Read the veg library file\n",
    "veg_lib, lib_bare_idx = gp.veg_class(vegl_file, c=cols)\n",
    "\n",
    "# Determine the grid shape\n",
    "target_grid, target_attrs = gp.calc_grid(soil_dict['lats'], soil_dict['lons'])\n",
    "\n",
    "# Grid all the parameters\n",
    "grid_dict = gp.grid_params(soil_dict, target_grid, version_in='4', \n",
    "                           vegparam_lai=vegparam_lai, lai_src=lai_src,\n",
    "                           lib_bare_idx=lib_bare_idx, \n",
    "                           veg_dict=veg_dict, veglib_dict=veg_lib, \n",
    "                           snow_dict=snow_dict, lake_dict=None)\n",
    "\n",
    "# Write a netCDF file with all the parameters\n",
    "gp.write_netcdf(out_file,\n",
    "                target_attrs,\n",
    "                target_grid=target_grid,\n",
    "                vegparam_lai=vegparam_lai,\n",
    "                lai_src=lai_src,\n",
    "                soil_grid=grid_dict['soil_dict'],\n",
    "                snow_grid=grid_dict['snow_dict'],\n",
    "                veg_grid=grid_dict['veg_dict'])"
   ]
  },
  {
   "cell_type": "markdown",
   "metadata": {},
   "source": [
    "# 1/8 deg CONUS domain file"
   ]
  },
  {
   "cell_type": "code",
   "execution_count": 14,
   "metadata": {
    "collapsed": true
   },
   "outputs": [],
   "source": [
    "dom_ds = xr.Dataset()\n",
    "\n",
    "# Set global attributes\n",
    "dom_ds.attrs['title'] = 'VIC domain data'\n",
    "dom_ds.attrs['Conventions'] = 'CF-1.6'\n",
    "dom_ds.attrs['history'] = 'created by %s, %s' % (user, now)\n",
    "dom_ds.attrs['user_comment'] = 'VIC domain data'\n",
    "dom_ds.attrs['source'] = 'generated from VIC CONUS 1.8 deg model parameters, see Maurer et al. (2002) for more information'\n",
    "\n",
    "dom_file = os.path.join(opath, 'domain.vic.conus0.0125deg.%s.nc' % now.strftime('%Y%m%d'))\n",
    "\n",
    "# Get the mask variable\n",
    "dom_ds['mask'] = xr.DataArray(target_grid['mask'], coords={'lat': target_grid['yc'],\n",
    "                                                                 'lon': target_grid['xc']},\n",
    "                                    dims=('lat', 'lon', ))\n",
    "\n",
    "# For now, the frac variable is going to be just like the mask\n",
    "dom_ds['frac'] = dom_ds['mask'].astype(np.float)\n",
    "dom_ds['frac'].attrs['long_name'] = 'fraction of grid cell that is active'\n",
    "dom_ds['frac'].attrs['units'] = '1'\n",
    "\n",
    "# Set variable attributes\n",
    "for k, v in target_attrs.items():\n",
    "    if k == 'xc':\n",
    "        k = 'lon'\n",
    "    elif k == 'yc':\n",
    "        k = 'lat'\n",
    "    dom_ds[k].attrs = v\n",
    "    \n",
    "# Write temporary file for gridarea calculation\n",
    "dom_ds.to_netcdf('temp.nc')"
   ]
  },
  {
   "cell_type": "code",
   "execution_count": 15,
   "metadata": {
    "collapsed": false
   },
   "outputs": [
    {
     "name": "stdout",
     "output_type": "stream",
     "text": [
      "cdo gridarea:   0%\b\b\b\b  0%\b\b\b\b  1%\b\b\b\b  2%\b\b\b\b  3%\b\b\b\b  4%\b\b\b\b  5%\b\b\b\b  6%\b\b\b\b  7%\b\b\b\b  8%\b\b\b\b  9%\b\b\b\b 10%\b\b\b\b 11%\b\b\b\b 12%\b\b\b\b 13%\b\b\b\b 14%\b\b\b\b 15%\b\b\b\b 16%\b\b\b\b 17%\b\b\b\b 18%\b\b\b\b 19%\b\b\b\b 20%\b\b\b\b 21%\b\b\b\b 22%\b\b\b\b 23%\b\b\b\b 24%\b\b\b\b 25%\b\b\b\b 26%\b\b\b\b 27%\b\b\b\b 28%\b\b\b\b 29%\b\b\b\b 30%\b\b\b\b 31%\b\b\b\b 32%\b\b\b\b 33%\b\b\b\b 34%\b\b\b\b 35%\b\b\b\b 36%\b\b\b\b 37%\b\b\b\b 38%\b\b\b\b 39%\b\b\b\b 40%\b\b\b\b 41%\b\b\b\b 42%\b\b\b\b 43%\b\b\b\b 44%\b\b\b\b 45%\b\b\b\b 46%\b\b\b\b 47%\b\b\b\b 48%\b\b\b\b 49%\b\b\b\b 50%\b\b\b\b 51%\b\b\b\b 52%\b\b\b\b 53%\b\b\b\b 54%\b\b\b\b 55%\b\b\b\b 56%\b\b\b\b 57%\b\b\b\b 58%\b\b\b\b 59%\b\b\b\b 60%\b\b\b\b 61%\b\b\b\b 62%\b\b\b\b 63%\b\b\b\b 64%\b\b\b\b 65%\b\b\b\b 66%\b\b\b\b 67%\b\b\b\b 68%\b\b\b\b 69%\b\b\b\b 70%\b\b\b\b 71%\b\b\b\b 72%\b\b\b\b 73%\b\b\b\b 74%\b\b\b\b 75%\b\b\b\b 76%\b\b\b\b 77%\b\b\b\b 78%\b\b\b\b 79%\b\b\b\b 80%\b\b\b\b 81%\b\b\b\b 82%\b\b\b\b 83%\b\b\b\b 84%\b\b\b\b 85%\b\b\b\b 86%\b\b\b\b 87%\b\b\b\b 88%\b\b\b\b 89%\b\b\b\b 90%\b\b\b\b 91%\b\b\b\b 92%\b\b\b\b 93%\b\b\b\b 94%\b\b\b\b 95%\b\b\b\b 96%\b\b\b\b 97%\b\b\b\b 98%\b\b\b\b 99%\b\b\b\b100%\b \b\b \b\b \b\b \b\b \b\b \b\b \b\b \b\b \b\b \b\b \b\b \b\b \b\b \b\b \b\b \b\b \b\b \bcdo gridarea: Processed 2 variables ( 0.12s )\n"
     ]
    }
   ],
   "source": [
    "# This step calculates the grid cell area\n",
    "!cdo -O gridarea temp.nc area.nc\n",
    "!rm temp.nc"
   ]
  },
  {
   "cell_type": "code",
   "execution_count": 16,
   "metadata": {
    "collapsed": false
   },
   "outputs": [
    {
     "name": "stdout",
     "output_type": "stream",
     "text": [
      "<xarray.Dataset>\n",
      "Dimensions:  (lat: 222, lon: 462)\n",
      "Coordinates:\n",
      "  * lat      (lat) float64 25.19 25.31 25.44 25.56 25.69 25.81 25.94 26.06 ...\n",
      "  * lon      (lon) float64 -124.7 -124.6 -124.4 -124.3 -124.2 -124.1 -123.9 ...\n",
      "Data variables:\n",
      "    mask     (lat, lon) int64 0 0 0 0 0 0 0 0 0 0 0 0 0 0 0 0 0 0 0 0 0 0 0 ...\n",
      "    frac     (lat, lon) float64 0.0 0.0 0.0 0.0 0.0 0.0 0.0 0.0 0.0 0.0 0.0 ...\n",
      "    area     (lat, lon) float64 1.748e+08 1.748e+08 1.748e+08 1.748e+08 ...\n",
      "Attributes:\n",
      "    title: VIC domain data\n",
      "    Conventions: CF-1.6\n",
      "    history: created by jhamman, 2016-06-08 15:01:23.814110\n",
      "    user_comment: VIC domain data\n",
      "    source: generated from VIC CONUS 1.8 deg model parameters, see Maurer et al. (2002) for more information\n"
     ]
    },
    {
     "data": {
      "text/plain": [
       "<matplotlib.collections.QuadMesh at 0x11d8317f0>"
      ]
     },
     "execution_count": 16,
     "metadata": {},
     "output_type": "execute_result"
    },
    {
     "data": {
      "image/png": "[encoded data removed]",
      "text/plain": [
       "<matplotlib.figure.Figure at 0x11d847d68>"
      ]
     },
     "metadata": {},
     "output_type": "display_data"
    }
   ],
   "source": [
    "# Extract the area variable\n",
    "area = xr.open_dataset('area.nc').load()['cell_area']\n",
    "dom_ds['area'] = area\n",
    "\n",
    "# write the domain file\n",
    "dom_ds.to_netcdf(dom_file)\n",
    "dom_ds.close()\n",
    "\n",
    "# document and plot the domain\n",
    "print(dom_ds)\n",
    "dom_ds.mask.plot()"
   ]
  },
  {
   "cell_type": "code",
   "execution_count": 17,
   "metadata": {
    "collapsed": true
   },
   "outputs": [],
   "source": [
    "plt.close('all')"
   ]
  },
  {
   "cell_type": "code",
   "execution_count": null,
   "metadata": {
    "collapsed": true
   },
   "outputs": [],
   "source": []
  }
 ],
 "metadata": {
  "kernelspec": {
   "display_name": "Python 3",
   "language": "python",
   "name": "python3"
  },
  "language_info": {
   "codemirror_mode": {
    "name": "ipython",
    "version": 3
   },
   "file_extension": ".py",
   "mimetype": "text/x-python",
   "name": "python",
   "nbconvert_exporter": "python",
   "pygments_lexer": "ipython3",
   "version": "3.4.4"
  },
  "widgets": {
   "state": {},
   "version": "1.1.2"
  }
 },
 "nbformat": 4,
 "nbformat_minor": 0
}
